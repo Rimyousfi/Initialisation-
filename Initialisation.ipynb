{
 "cells": [
  {
   "cell_type": "code",
   "execution_count": 2,
   "id": "d24d6495",
   "metadata": {},
   "outputs": [],
   "source": [
    "#initialisation:\n",
    "mu_beta = np.array([0,0])\n",
    "sigmasq_y = 1\n",
    "beta=np.array([[100, 100],\n",
    "                 [100, 100],\n",
    "                 [100, 100],\n",
    "                 [100, 100],\n",
    "                 [100, 100],\n",
    "                 [100, 100],\n",
    "                 [100, 100],\n",
    "                 [100, 100],\n",
    "                 [100, 100],\n",
    "                 [100, 100],\n",
    "                 [100, 100],\n",
    "                 [100, 100],\n",
    "                 [100, 100],\n",
    "                 [100, 100],\n",
    "                 [100, 100],\n",
    "                 [100, 100],\n",
    "                 [100, 100],\n",
    "                 [100, 100],\n",
    "                 [100, 100],\n",
    "                 [100, 100],\n",
    "                 [6, 6],\n",
    "                 [6, 6],\n",
    "                 [6, 6],\n",
    "                 [6, 6],\n",
    "                 [6, 6],\n",
    "                 [6, 6],\n",
    "                 [6, 6],\n",
    "                 [6, 6],\n",
    "                 [6, 6],\n",
    "                 [6, 6]])\n",
    "\n",
    "Sigma_beta = np.array([[1, 0],\n",
    "                       [0, 1]])"
   ]
  },
  {
   "cell_type": "code",
   "execution_count": null,
   "id": "cfbd2903",
   "metadata": {},
   "outputs": [],
   "source": []
  }
 ],
 "metadata": {
  "kernelspec": {
   "display_name": "Python 3 (ipykernel)",
   "language": "python",
   "name": "python3"
  },
  "language_info": {
   "codemirror_mode": {
    "name": "ipython",
    "version": 3
   },
   "file_extension": ".py",
   "mimetype": "text/x-python",
   "name": "python",
   "nbconvert_exporter": "python",
   "pygments_lexer": "ipython3",
   "version": "3.11.4"
  }
 },
 "nbformat": 4,
 "nbformat_minor": 5
}
